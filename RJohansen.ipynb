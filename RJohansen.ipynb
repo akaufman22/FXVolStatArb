{
 "cells": [
  {
   "cell_type": "code",
   "execution_count": 30,
   "metadata": {
    "vscode": {
     "languageId": "r"
    }
   },
   "outputs": [],
   "source": [
    "library(quantmod)\n",
    "library(zoo)\n",
    "library(urca)\n",
    "library(stats)"
   ]
  },
  {
   "cell_type": "code",
   "execution_count": 31,
   "metadata": {
    "vscode": {
     "languageId": "r"
    }
   },
   "outputs": [],
   "source": [
    "setwd(\"./\")"
   ]
  },
  {
   "cell_type": "code",
   "execution_count": 32,
   "metadata": {
    "vscode": {
     "languageId": "r"
    }
   },
   "outputs": [],
   "source": [
    "vols.zoo = read.zoo(\"sample.csv\", header=TRUE, sep=\",\", format=\"%Y-%m-%d\")"
   ]
  },
  {
   "cell_type": "code",
   "execution_count": 33,
   "metadata": {
    "vscode": {
     "languageId": "r"
    }
   },
   "outputs": [
    {
     "name": "stdout",
     "output_type": "stream",
     "text": [
      "\n",
      "###################### \n",
      "# Johansen-Procedure # \n",
      "###################### \n",
      "\n",
      "Test type: maximal eigenvalue statistic (lambda max) , with linear trend in cointegration \n",
      "\n",
      "Eigenvalues (lambda):\n",
      "[1] 8.681531e-02 6.491141e-02 4.498019e-02 2.524265e-02 2.093684e-02\n",
      "[6] 1.115009e-02 3.838508e-03 1.058603e-19\n",
      "\n",
      "Values of teststatistic and critical values of test:\n",
      "\n",
      "          test 10pct  5pct  1pct\n",
      "r <= 6 |  3.00 10.49 12.25 16.26\n",
      "r <= 5 |  8.75 16.85 18.96 23.65\n",
      "r <= 4 | 16.50 23.11 25.54 30.34\n",
      "r <= 3 | 19.94 29.12 31.46 36.65\n",
      "r <= 2 | 35.90 34.75 37.52 42.36\n",
      "r <= 1 | 52.35 40.91 43.97 49.51\n",
      "r = 0  | 70.84 46.32 49.42 54.71\n",
      "\n",
      "Eigenvectors, normalised to first column:\n",
      "(These are the cointegration relations)\n",
      "\n",
      "              EURUSD.l1    USDJPY.l1    GBPUSD.l1    USDCHF.l1     USDCAD.l1\n",
      "EURUSD.l1  1.0000000000  1.000000000  1.000000000  1.000000000  1.0000000000\n",
      "USDJPY.l1  0.0207768779 -3.308560787  2.529184122 -0.133789585  0.3862586788\n",
      "GBPUSD.l1 -0.4452429768  0.168826928 -0.944150839  0.554988453 -0.3649242158\n",
      "USDCHF.l1 -0.5168014916 -2.016251559 -6.701254951 -1.749746487 -0.9406498998\n",
      "USDCAD.l1 -0.8529661238 -4.917172821  1.787756635 -0.076789693 -0.1610919147\n",
      "AUDUSD.l1 -3.3933295094 10.227332608 -1.646689862 -0.277973496  2.7530897365\n",
      "NZDUSD.l1  3.8967157329 -4.123881048  3.118771307 -0.057159865 -3.1948383164\n",
      "trend.l1  -0.0009139176  0.008054423 -0.002876728  0.002882231 -0.0006208891\n",
      "             AUDUSD.l1    NZDUSD.l1    trend.l1\n",
      "EURUSD.l1  1.000000000  1.000000000  1.00000000\n",
      "USDJPY.l1 -0.584194188  0.599061522 -0.12121190\n",
      "GBPUSD.l1 -0.477917502  0.009137399 -1.00067511\n",
      "USDCHF.l1 -0.341291927 -0.896297870 -3.66759988\n",
      "USDCAD.l1  0.758080316 -0.562074994  3.14676486\n",
      "AUDUSD.l1 -0.332166724  2.130305915  1.55032367\n",
      "NZDUSD.l1  0.350012538 -1.159317619  0.60478400\n",
      "trend.l1   0.002779736 -0.006260931 -0.03102493\n",
      "\n",
      "Weights W:\n",
      "(This is the loading matrix)\n",
      "\n",
      "            EURUSD.l1    USDJPY.l1    GBPUSD.l1    USDCHF.l1   USDCAD.l1\n",
      "EURUSD.d -0.024815011 -0.001814062  0.004801192 -0.007149011 0.016272311\n",
      "USDJPY.d -0.017587072  0.005780029 -0.005553754  0.013455230 0.007856729\n",
      "GBPUSD.d  0.049180103 -0.008215842  0.003300531 -0.015434050 0.028860202\n",
      "USDCHF.d -0.007355715 -0.001165697  0.007172014  0.008912249 0.012091008\n",
      "USDCAD.d  0.033490474 -0.004382338 -0.004305310  0.006654707 0.015691150\n",
      "AUDUSD.d -0.004061438 -0.016636403 -0.002835407  0.010884921 0.009490065\n",
      "NZDUSD.d -0.028707090 -0.014768301 -0.003930218  0.012517206 0.015111040\n",
      "             AUDUSD.l1    NZDUSD.l1      trend.l1\n",
      "EURUSD.d -0.0011319541 -0.003675070 -1.746001e-16\n",
      "USDJPY.d  0.0127064706 -0.003730429 -2.571902e-16\n",
      "GBPUSD.d  0.0111150365 -0.002067616  3.587586e-16\n",
      "USDCHF.d  0.0006710432 -0.002411493 -3.654559e-17\n",
      "USDCAD.d -0.0025956171 -0.002483430  2.418684e-16\n",
      "AUDUSD.d  0.0030976156 -0.003101983  2.922343e-16\n",
      "NZDUSD.d  0.0027200313 -0.002436642  6.585911e-17\n",
      "\n",
      "\n",
      "###################### \n",
      "# Johansen-Procedure # \n",
      "###################### \n",
      "\n",
      "Test type: trace statistic , with linear trend in cointegration \n",
      "\n",
      "Eigenvalues (lambda):\n",
      "[1] 8.681531e-02 6.491141e-02 4.498019e-02 2.524265e-02 2.093684e-02\n",
      "[6] 1.115009e-02 3.838508e-03 1.058603e-19\n",
      "\n",
      "Values of teststatistic and critical values of test:\n",
      "\n",
      "           test  10pct   5pct   1pct\n",
      "r <= 6 |   3.00  10.49  12.25  16.26\n",
      "r <= 5 |  11.75  22.76  25.32  30.45\n",
      "r <= 4 |  28.25  39.06  42.44  48.45\n",
      "r <= 3 |  48.19  59.14  62.99  70.05\n",
      "r <= 2 |  84.09  83.20  87.31  96.58\n",
      "r <= 1 | 136.44 110.42 114.90 124.75\n",
      "r = 0  | 207.28 141.01 146.76 158.49\n",
      "\n",
      "Eigenvectors, normalised to first column:\n",
      "(These are the cointegration relations)\n",
      "\n",
      "              EURUSD.l1    USDJPY.l1    GBPUSD.l1    USDCHF.l1     USDCAD.l1\n",
      "EURUSD.l1  1.0000000000  1.000000000  1.000000000  1.000000000  1.0000000000\n",
      "USDJPY.l1  0.0207768779 -3.308560787  2.529184122 -0.133789585  0.3862586788\n",
      "GBPUSD.l1 -0.4452429768  0.168826928 -0.944150839  0.554988453 -0.3649242158\n",
      "USDCHF.l1 -0.5168014916 -2.016251559 -6.701254951 -1.749746487 -0.9406498998\n",
      "USDCAD.l1 -0.8529661238 -4.917172821  1.787756635 -0.076789693 -0.1610919147\n",
      "AUDUSD.l1 -3.3933295094 10.227332608 -1.646689862 -0.277973496  2.7530897365\n",
      "NZDUSD.l1  3.8967157329 -4.123881048  3.118771307 -0.057159865 -3.1948383164\n",
      "trend.l1  -0.0009139176  0.008054423 -0.002876728  0.002882231 -0.0006208891\n",
      "             AUDUSD.l1    NZDUSD.l1    trend.l1\n",
      "EURUSD.l1  1.000000000  1.000000000  1.00000000\n",
      "USDJPY.l1 -0.584194188  0.599061522 -0.12121190\n",
      "GBPUSD.l1 -0.477917502  0.009137399 -1.00067511\n",
      "USDCHF.l1 -0.341291927 -0.896297870 -3.66759988\n",
      "USDCAD.l1  0.758080316 -0.562074994  3.14676486\n",
      "AUDUSD.l1 -0.332166724  2.130305915  1.55032367\n",
      "NZDUSD.l1  0.350012538 -1.159317619  0.60478400\n",
      "trend.l1   0.002779736 -0.006260931 -0.03102493\n",
      "\n",
      "Weights W:\n",
      "(This is the loading matrix)\n",
      "\n",
      "            EURUSD.l1    USDJPY.l1    GBPUSD.l1    USDCHF.l1   USDCAD.l1\n",
      "EURUSD.d -0.024815011 -0.001814062  0.004801192 -0.007149011 0.016272311\n",
      "USDJPY.d -0.017587072  0.005780029 -0.005553754  0.013455230 0.007856729\n",
      "GBPUSD.d  0.049180103 -0.008215842  0.003300531 -0.015434050 0.028860202\n",
      "USDCHF.d -0.007355715 -0.001165697  0.007172014  0.008912249 0.012091008\n",
      "USDCAD.d  0.033490474 -0.004382338 -0.004305310  0.006654707 0.015691150\n",
      "AUDUSD.d -0.004061438 -0.016636403 -0.002835407  0.010884921 0.009490065\n",
      "NZDUSD.d -0.028707090 -0.014768301 -0.003930218  0.012517206 0.015111040\n",
      "             AUDUSD.l1    NZDUSD.l1      trend.l1\n",
      "EURUSD.d -0.0011319541 -0.003675070 -1.746001e-16\n",
      "USDJPY.d  0.0127064706 -0.003730429 -2.571902e-16\n",
      "GBPUSD.d  0.0111150365 -0.002067616  3.587586e-16\n",
      "USDCHF.d  0.0006710432 -0.002411493 -3.654559e-17\n",
      "USDCAD.d -0.0025956171 -0.002483430  2.418684e-16\n",
      "AUDUSD.d  0.0030976156 -0.003101983  2.922343e-16\n",
      "NZDUSD.d  0.0027200313 -0.002436642  6.585911e-17\n",
      "\n"
     ]
    }
   ],
   "source": [
    "print(summary(ca.jo(vols.zoo, type=\"eigen\", ecdet=\"trend\", K=2, spec=\"transitory\")))\n",
    "print(summary(ca.jo(vols.zoo, type=\"trace\", ecdet=\"trend\", K=2, spec=\"transitory\")))"
   ]
  },
  {
   "cell_type": "code",
   "execution_count": 36,
   "metadata": {
    "vscode": {
     "languageId": "r"
    }
   },
   "outputs": [],
   "source": [
    "#indices <- c(1:dim(vols.zoo)[2])\n",
    "pairs <- colnames(vols.zoo)\n",
    "indices = index(pairs)\n",
    "df <- vols.zoo\n",
    "portfolios <- list()\n",
    "weights <- list()\n",
    "HLs <- list()\n",
    "means <- list()\n",
    "stds <- list()\n",
    "for (i in indices) {\n",
    "    for (j in indices[-c(1:i)]) {\n",
    "        for (k in indices[-c(1:j)]) {\n",
    "        data <- df[, pairs[c(i,j,k)]]\n",
    "        johansen_eigen <- (ca.jo(data, type=\"eigen\", ecdet=\"trend\", K=2, spec=\"transitory\"))\n",
    "        johansen_trace <- (ca.jo(data, type=\"trace\", ecdet=\"trend\", K=2, spec=\"transitory\"))\n",
    "        for (d in c(rev(1:3))) {\n",
    "            if ((johansen_eigen@teststat[d] > johansen_eigen@cval[d, \"5pct\"]) &\n",
    "            (johansen_trace@teststat[d] > johansen_trace@cval[d, \"5pct\"])) {\n",
    "                norm <- 1 \n",
    "                vec_norm <- unname(johansen_eigen@V[-4,3-d+1] / norm)\n",
    "                portfolio_values = data %*% vec_norm\n",
    "                fit <- ar.ols(portfolio_values, order.max = 1, demean = F, intercept = T)\n",
    "                theta <- -log(fit$ar)\n",
    "                hl <- log(2) / theta\n",
    "                portfolios <- append(portfolios, list(pairs[c(i,j,k)]))\n",
    "                weights <- append(weights, list(vec_norm))\n",
    "                HLs <- append(HLs, hl)\n",
    "                means <- append(means, fit$x.intercept / (1-fit$ar))\n",
    "                stds <- append(stds, sd(fit$resid[-1]) / sqrt(1-fit$ar^2))\n",
    "            }\n",
    "        }\n",
    "        }\n",
    "    }\n",
    "}\n",
    "strategies <- data.frame(Portfolio=sapply(portfolios, FUN=toString),\n",
    "Weights=sapply(weights, FUN=toString),\n",
    "HL = unlist(HLs),\n",
    "Mean = unlist(means),\n",
    "Std = unlist(stds)\n",
    ")"
   ]
  },
  {
   "cell_type": "code",
   "execution_count": 37,
   "metadata": {
    "vscode": {
     "languageId": "r"
    }
   },
   "outputs": [
    {
     "data": {
      "text/html": [
       "<table class=\"dataframe\">\n",
       "<caption>A data.frame: 16 x 5</caption>\n",
       "<thead>\n",
       "\t<tr><th scope=col>Portfolio</th><th scope=col>Weights</th><th scope=col>HL</th><th scope=col>Mean</th><th scope=col>Std</th></tr>\n",
       "\t<tr><th scope=col>&lt;chr&gt;</th><th scope=col>&lt;chr&gt;</th><th scope=col>&lt;dbl&gt;</th><th scope=col>&lt;dbl&gt;</th><th scope=col>&lt;dbl&gt;</th></tr>\n",
       "</thead>\n",
       "<tbody>\n",
       "\t<tr><td>EURUSD, USDCHF, AUDUSD</td><td>1, -5.57972167393135, 2.90534678414481   </td><td>17.504326</td><td> -2.96874107</td><td> 1.4991862</td></tr>\n",
       "\t<tr><td>EURUSD, USDCHF, NZDUSD</td><td>1, -3.86151447053565, 1.75356040495089   </td><td>20.736400</td><td> -2.39785099</td><td> 1.0425948</td></tr>\n",
       "\t<tr><td>EURUSD, USDCAD, AUDUSD</td><td>1, -0.322187843980548, -0.911044455685978</td><td>17.795172</td><td> -4.76083570</td><td> 0.4690320</td></tr>\n",
       "\t<tr><td>EURUSD, AUDUSD, NZDUSD</td><td>1, -5.70484433524699, 4.87063874545255   </td><td> 5.745025</td><td> -1.13909102</td><td> 0.5589661</td></tr>\n",
       "\t<tr><td>USDJPY, USDCHF, USDCAD</td><td>1, -2.32008973886651, 1.12540474169002   </td><td>10.492567</td><td> -0.58098080</td><td> 0.5791998</td></tr>\n",
       "\t<tr><td>USDJPY, USDCHF, AUDUSD</td><td>1, -9.27351337406553, 5.56592881957701   </td><td>11.763600</td><td> -0.65621467</td><td> 2.3910460</td></tr>\n",
       "\t<tr><td>USDJPY, USDCHF, NZDUSD</td><td>1, -5.14451219765323, 2.73772191673321   </td><td>11.922197</td><td> -0.06176754</td><td> 1.3205588</td></tr>\n",
       "\t<tr><td>USDJPY, USDCAD, AUDUSD</td><td>1, 1.57019378626998, -1.8964581597152    </td><td>10.693838</td><td> -0.47842252</td><td> 0.5829423</td></tr>\n",
       "\t<tr><td>USDJPY, USDCAD, NZDUSD</td><td>1, 1.86873556171752, -2.1500013853689    </td><td> 9.924609</td><td> -1.24718478</td><td> 0.6223840</td></tr>\n",
       "\t<tr><td>USDJPY, AUDUSD, NZDUSD</td><td>1, -7.54872514135642, 6.82773958457637   </td><td>11.086107</td><td>  1.43795419</td><td> 1.0289514</td></tr>\n",
       "\t<tr><td>GBPUSD, USDCHF, AUDUSD</td><td>1, 278.783908446649, -197.746061016447   </td><td>14.396218</td><td>-40.82755510</td><td>84.6059047</td></tr>\n",
       "\t<tr><td>GBPUSD, USDCHF, NZDUSD</td><td>1, 18.1873745676466, -14.5658168065187   </td><td>14.739908</td><td>-13.45447674</td><td> 6.0205638</td></tr>\n",
       "\t<tr><td>GBPUSD, USDCAD, NZDUSD</td><td>1, 1.99702096180782, -2.51850989496419   </td><td>26.415699</td><td> -3.81999240</td><td> 1.1923163</td></tr>\n",
       "\t<tr><td>USDCHF, USDCAD, AUDUSD</td><td>1, 0.18689183491403, -0.825767723431294  </td><td>11.492747</td><td> -0.07929289</td><td> 0.2873660</td></tr>\n",
       "\t<tr><td>USDCHF, USDCAD, NZDUSD</td><td>1, 0.322032498015565, -0.935897140660764 </td><td>11.877576</td><td> -0.37360536</td><td> 0.3154452</td></tr>\n",
       "\t<tr><td>USDCHF, AUDUSD, NZDUSD</td><td>1, -2.28503050277141, 1.64926653054791   </td><td> 8.582883</td><td>  0.76270298</td><td> 0.3157711</td></tr>\n",
       "</tbody>\n",
       "</table>\n"
      ],
      "text/latex": [
       "A data.frame: 16 x 5\n",
       "\\begin{tabular}{lllll}\n",
       " Portfolio & Weights & HL & Mean & Std\\\\\n",
       " <chr> & <chr> & <dbl> & <dbl> & <dbl>\\\\\n",
       "\\hline\n",
       "\t EURUSD, USDCHF, AUDUSD & 1, -5.57972167393135, 2.90534678414481    & 17.504326 &  -2.96874107 &  1.4991862\\\\\n",
       "\t EURUSD, USDCHF, NZDUSD & 1, -3.86151447053565, 1.75356040495089    & 20.736400 &  -2.39785099 &  1.0425948\\\\\n",
       "\t EURUSD, USDCAD, AUDUSD & 1, -0.322187843980548, -0.911044455685978 & 17.795172 &  -4.76083570 &  0.4690320\\\\\n",
       "\t EURUSD, AUDUSD, NZDUSD & 1, -5.70484433524699, 4.87063874545255    &  5.745025 &  -1.13909102 &  0.5589661\\\\\n",
       "\t USDJPY, USDCHF, USDCAD & 1, -2.32008973886651, 1.12540474169002    & 10.492567 &  -0.58098080 &  0.5791998\\\\\n",
       "\t USDJPY, USDCHF, AUDUSD & 1, -9.27351337406553, 5.56592881957701    & 11.763600 &  -0.65621467 &  2.3910460\\\\\n",
       "\t USDJPY, USDCHF, NZDUSD & 1, -5.14451219765323, 2.73772191673321    & 11.922197 &  -0.06176754 &  1.3205588\\\\\n",
       "\t USDJPY, USDCAD, AUDUSD & 1, 1.57019378626998, -1.8964581597152     & 10.693838 &  -0.47842252 &  0.5829423\\\\\n",
       "\t USDJPY, USDCAD, NZDUSD & 1, 1.86873556171752, -2.1500013853689     &  9.924609 &  -1.24718478 &  0.6223840\\\\\n",
       "\t USDJPY, AUDUSD, NZDUSD & 1, -7.54872514135642, 6.82773958457637    & 11.086107 &   1.43795419 &  1.0289514\\\\\n",
       "\t GBPUSD, USDCHF, AUDUSD & 1, 278.783908446649, -197.746061016447    & 14.396218 & -40.82755510 & 84.6059047\\\\\n",
       "\t GBPUSD, USDCHF, NZDUSD & 1, 18.1873745676466, -14.5658168065187    & 14.739908 & -13.45447674 &  6.0205638\\\\\n",
       "\t GBPUSD, USDCAD, NZDUSD & 1, 1.99702096180782, -2.51850989496419    & 26.415699 &  -3.81999240 &  1.1923163\\\\\n",
       "\t USDCHF, USDCAD, AUDUSD & 1, 0.18689183491403, -0.825767723431294   & 11.492747 &  -0.07929289 &  0.2873660\\\\\n",
       "\t USDCHF, USDCAD, NZDUSD & 1, 0.322032498015565, -0.935897140660764  & 11.877576 &  -0.37360536 &  0.3154452\\\\\n",
       "\t USDCHF, AUDUSD, NZDUSD & 1, -2.28503050277141, 1.64926653054791    &  8.582883 &   0.76270298 &  0.3157711\\\\\n",
       "\\end{tabular}\n"
      ],
      "text/markdown": [
       "\n",
       "A data.frame: 16 x 5\n",
       "\n",
       "| Portfolio &lt;chr&gt; | Weights &lt;chr&gt; | HL &lt;dbl&gt; | Mean &lt;dbl&gt; | Std &lt;dbl&gt; |\n",
       "|---|---|---|---|---|\n",
       "| EURUSD, USDCHF, AUDUSD | 1, -5.57972167393135, 2.90534678414481    | 17.504326 |  -2.96874107 |  1.4991862 |\n",
       "| EURUSD, USDCHF, NZDUSD | 1, -3.86151447053565, 1.75356040495089    | 20.736400 |  -2.39785099 |  1.0425948 |\n",
       "| EURUSD, USDCAD, AUDUSD | 1, -0.322187843980548, -0.911044455685978 | 17.795172 |  -4.76083570 |  0.4690320 |\n",
       "| EURUSD, AUDUSD, NZDUSD | 1, -5.70484433524699, 4.87063874545255    |  5.745025 |  -1.13909102 |  0.5589661 |\n",
       "| USDJPY, USDCHF, USDCAD | 1, -2.32008973886651, 1.12540474169002    | 10.492567 |  -0.58098080 |  0.5791998 |\n",
       "| USDJPY, USDCHF, AUDUSD | 1, -9.27351337406553, 5.56592881957701    | 11.763600 |  -0.65621467 |  2.3910460 |\n",
       "| USDJPY, USDCHF, NZDUSD | 1, -5.14451219765323, 2.73772191673321    | 11.922197 |  -0.06176754 |  1.3205588 |\n",
       "| USDJPY, USDCAD, AUDUSD | 1, 1.57019378626998, -1.8964581597152     | 10.693838 |  -0.47842252 |  0.5829423 |\n",
       "| USDJPY, USDCAD, NZDUSD | 1, 1.86873556171752, -2.1500013853689     |  9.924609 |  -1.24718478 |  0.6223840 |\n",
       "| USDJPY, AUDUSD, NZDUSD | 1, -7.54872514135642, 6.82773958457637    | 11.086107 |   1.43795419 |  1.0289514 |\n",
       "| GBPUSD, USDCHF, AUDUSD | 1, 278.783908446649, -197.746061016447    | 14.396218 | -40.82755510 | 84.6059047 |\n",
       "| GBPUSD, USDCHF, NZDUSD | 1, 18.1873745676466, -14.5658168065187    | 14.739908 | -13.45447674 |  6.0205638 |\n",
       "| GBPUSD, USDCAD, NZDUSD | 1, 1.99702096180782, -2.51850989496419    | 26.415699 |  -3.81999240 |  1.1923163 |\n",
       "| USDCHF, USDCAD, AUDUSD | 1, 0.18689183491403, -0.825767723431294   | 11.492747 |  -0.07929289 |  0.2873660 |\n",
       "| USDCHF, USDCAD, NZDUSD | 1, 0.322032498015565, -0.935897140660764  | 11.877576 |  -0.37360536 |  0.3154452 |\n",
       "| USDCHF, AUDUSD, NZDUSD | 1, -2.28503050277141, 1.64926653054791    |  8.582883 |   0.76270298 |  0.3157711 |\n",
       "\n"
      ],
      "text/plain": [
       "   Portfolio              Weights                                   HL       \n",
       "1  EURUSD, USDCHF, AUDUSD 1, -5.57972167393135, 2.90534678414481    17.504326\n",
       "2  EURUSD, USDCHF, NZDUSD 1, -3.86151447053565, 1.75356040495089    20.736400\n",
       "3  EURUSD, USDCAD, AUDUSD 1, -0.322187843980548, -0.911044455685978 17.795172\n",
       "4  EURUSD, AUDUSD, NZDUSD 1, -5.70484433524699, 4.87063874545255     5.745025\n",
       "5  USDJPY, USDCHF, USDCAD 1, -2.32008973886651, 1.12540474169002    10.492567\n",
       "6  USDJPY, USDCHF, AUDUSD 1, -9.27351337406553, 5.56592881957701    11.763600\n",
       "7  USDJPY, USDCHF, NZDUSD 1, -5.14451219765323, 2.73772191673321    11.922197\n",
       "8  USDJPY, USDCAD, AUDUSD 1, 1.57019378626998, -1.8964581597152     10.693838\n",
       "9  USDJPY, USDCAD, NZDUSD 1, 1.86873556171752, -2.1500013853689      9.924609\n",
       "10 USDJPY, AUDUSD, NZDUSD 1, -7.54872514135642, 6.82773958457637    11.086107\n",
       "11 GBPUSD, USDCHF, AUDUSD 1, 278.783908446649, -197.746061016447    14.396218\n",
       "12 GBPUSD, USDCHF, NZDUSD 1, 18.1873745676466, -14.5658168065187    14.739908\n",
       "13 GBPUSD, USDCAD, NZDUSD 1, 1.99702096180782, -2.51850989496419    26.415699\n",
       "14 USDCHF, USDCAD, AUDUSD 1, 0.18689183491403, -0.825767723431294   11.492747\n",
       "15 USDCHF, USDCAD, NZDUSD 1, 0.322032498015565, -0.935897140660764  11.877576\n",
       "16 USDCHF, AUDUSD, NZDUSD 1, -2.28503050277141, 1.64926653054791     8.582883\n",
       "   Mean         Std       \n",
       "1   -2.96874107  1.4991862\n",
       "2   -2.39785099  1.0425948\n",
       "3   -4.76083570  0.4690320\n",
       "4   -1.13909102  0.5589661\n",
       "5   -0.58098080  0.5791998\n",
       "6   -0.65621467  2.3910460\n",
       "7   -0.06176754  1.3205588\n",
       "8   -0.47842252  0.5829423\n",
       "9   -1.24718478  0.6223840\n",
       "10   1.43795419  1.0289514\n",
       "11 -40.82755510 84.6059047\n",
       "12 -13.45447674  6.0205638\n",
       "13  -3.81999240  1.1923163\n",
       "14  -0.07929289  0.2873660\n",
       "15  -0.37360536  0.3154452\n",
       "16   0.76270298  0.3157711"
      ]
     },
     "metadata": {},
     "output_type": "display_data"
    }
   ],
   "source": [
    "strategies"
   ]
  },
  {
   "cell_type": "code",
   "execution_count": 29,
   "metadata": {
    "vscode": {
     "languageId": "r"
    }
   },
   "outputs": [],
   "source": [
    "write.csv(strategies, file='test.csv')"
   ]
  }
 ],
 "metadata": {
  "kernelspec": {
   "display_name": "R",
   "language": "R",
   "name": "ir"
  },
  "language_info": {
   "codemirror_mode": "r",
   "file_extension": ".r",
   "mimetype": "text/x-r-source",
   "name": "R",
   "pygments_lexer": "r",
   "version": "4.3.1"
  }
 },
 "nbformat": 4,
 "nbformat_minor": 4
}
