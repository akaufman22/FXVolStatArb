{
 "cells": [
  {
   "cell_type": "code",
   "execution_count": 2,
   "metadata": {},
   "outputs": [
    {
     "name": "stdout",
     "output_type": "stream",
     "text": [
      "\n",
      "The downloaded binary packages are in\n",
      "\t/var/folders/44/shglypds2hd5yy5kdnt586h00000gn/T//Rtmpvp5HG3/downloaded_packages\n",
      "\n",
      "The downloaded binary packages are in\n",
      "\t/var/folders/44/shglypds2hd5yy5kdnt586h00000gn/T//Rtmpvp5HG3/downloaded_packages\n"
     ]
    }
   ],
   "source": [
    "install.packages(\"quantmod\")\n",
    "install.packages(\"urca\")"
   ]
  },
  {
   "cell_type": "code",
   "execution_count": 3,
   "metadata": {},
   "outputs": [],
   "source": [
    "library(quantmod)\n",
    "library(zoo)\n",
    "library(urca)"
   ]
  },
  {
   "cell_type": "code",
   "execution_count": 17,
   "metadata": {},
   "outputs": [],
   "source": [
    "setwd(\"./\")"
   ]
  },
  {
   "cell_type": "code",
   "execution_count": 15,
   "metadata": {},
   "outputs": [],
   "source": [
    "curve.zoo = read.zoo(\"spot_curve.csv\", header=TRUE, sep=\",\", format = \"%d/%m/%y\") # %y Year (2 digit) // %Y Year (4 digit)\n",
    "curve.zoo = curve.zoo[complete.cases(curve.zoo),] # remove empty lines, also  curve.zoo = curve.zoo[rowSums(is.na(curve.zoo)) == 0,]"
   ]
  },
  {
   "cell_type": "code",
   "execution_count": 42,
   "metadata": {},
   "outputs": [],
   "source": [
    "vols.zoo = read.zoo(\"sample.csv\", header=TRUE, sep=\",\", format=\"%Y-%m-%d\")"
   ]
  },
  {
   "cell_type": "code",
   "execution_count": 43,
   "metadata": {},
   "outputs": [
    {
     "name": "stdout",
     "output_type": "stream",
     "text": [
      "\n",
      "###################### \n",
      "# Johansen-Procedure # \n",
      "###################### \n",
      "\n",
      "Test type: maximal eigenvalue statistic (lambda max) , with linear trend in cointegration \n",
      "\n",
      "Eigenvalues (lambda):\n",
      "[1] 8.681531e-02 6.491141e-02 4.498019e-02 2.524265e-02 2.093684e-02\n",
      "[6] 1.115009e-02 3.838508e-03 1.058603e-19\n",
      "\n",
      "Values of teststatistic and critical values of test:\n",
      "\n",
      "          test 10pct  5pct  1pct\n",
      "r <= 6 |  3.00 10.49 12.25 16.26\n",
      "r <= 5 |  8.75 16.85 18.96 23.65\n",
      "r <= 4 | 16.50 23.11 25.54 30.34\n",
      "r <= 3 | 19.94 29.12 31.46 36.65\n",
      "r <= 2 | 35.90 34.75 37.52 42.36\n",
      "r <= 1 | 52.35 40.91 43.97 49.51\n",
      "r = 0  | 70.84 46.32 49.42 54.71\n",
      "\n",
      "Eigenvectors, normalised to first column:\n",
      "(These are the cointegration relations)\n",
      "\n",
      "              EURUSD.l1    USDJPY.l1    GBPUSD.l1    USDCHF.l1     USDCAD.l1\n",
      "EURUSD.l1  1.0000000000  1.000000000  1.000000000  1.000000000  1.0000000000\n",
      "USDJPY.l1  0.0207768779 -3.308560787  2.529184122 -0.133789585  0.3862586788\n",
      "GBPUSD.l1 -0.4452429768  0.168826928 -0.944150839  0.554988453 -0.3649242158\n",
      "USDCHF.l1 -0.5168014916 -2.016251559 -6.701254951 -1.749746487 -0.9406498998\n",
      "USDCAD.l1 -0.8529661238 -4.917172821  1.787756635 -0.076789693 -0.1610919147\n",
      "AUDUSD.l1 -3.3933295094 10.227332608 -1.646689862 -0.277973496  2.7530897365\n",
      "NZDUSD.l1  3.8967157329 -4.123881048  3.118771307 -0.057159865 -3.1948383164\n",
      "trend.l1  -0.0009139176  0.008054423 -0.002876728  0.002882231 -0.0006208891\n",
      "             AUDUSD.l1    NZDUSD.l1    trend.l1\n",
      "EURUSD.l1  1.000000000  1.000000000  1.00000000\n",
      "USDJPY.l1 -0.584194188  0.599061522 -0.12121190\n",
      "GBPUSD.l1 -0.477917502  0.009137399 -1.00067511\n",
      "USDCHF.l1 -0.341291927 -0.896297870 -3.66759988\n",
      "USDCAD.l1  0.758080316 -0.562074994  3.14676486\n",
      "AUDUSD.l1 -0.332166724  2.130305915  1.55032367\n",
      "NZDUSD.l1  0.350012538 -1.159317619  0.60478400\n",
      "trend.l1   0.002779736 -0.006260931 -0.03102493\n",
      "\n",
      "Weights W:\n",
      "(This is the loading matrix)\n",
      "\n",
      "            EURUSD.l1    USDJPY.l1    GBPUSD.l1    USDCHF.l1   USDCAD.l1\n",
      "EURUSD.d -0.024815011 -0.001814062  0.004801192 -0.007149011 0.016272311\n",
      "USDJPY.d -0.017587072  0.005780029 -0.005553754  0.013455230 0.007856729\n",
      "GBPUSD.d  0.049180103 -0.008215842  0.003300531 -0.015434050 0.028860202\n",
      "USDCHF.d -0.007355715 -0.001165697  0.007172014  0.008912249 0.012091008\n",
      "USDCAD.d  0.033490474 -0.004382338 -0.004305310  0.006654707 0.015691150\n",
      "AUDUSD.d -0.004061438 -0.016636403 -0.002835407  0.010884921 0.009490065\n",
      "NZDUSD.d -0.028707090 -0.014768301 -0.003930218  0.012517206 0.015111040\n",
      "             AUDUSD.l1    NZDUSD.l1      trend.l1\n",
      "EURUSD.d -0.0011319541 -0.003675070 -1.746001e-16\n",
      "USDJPY.d  0.0127064706 -0.003730429 -2.571902e-16\n",
      "GBPUSD.d  0.0111150365 -0.002067616  3.587586e-16\n",
      "USDCHF.d  0.0006710432 -0.002411493 -3.654559e-17\n",
      "USDCAD.d -0.0025956171 -0.002483430  2.418684e-16\n",
      "AUDUSD.d  0.0030976156 -0.003101983  2.922343e-16\n",
      "NZDUSD.d  0.0027200313 -0.002436642  6.585911e-17\n",
      "\n",
      "\n",
      "###################### \n",
      "# Johansen-Procedure # \n",
      "###################### \n",
      "\n",
      "Test type: trace statistic , with linear trend in cointegration \n",
      "\n",
      "Eigenvalues (lambda):\n",
      "[1] 8.681531e-02 6.491141e-02 4.498019e-02 2.524265e-02 2.093684e-02\n",
      "[6] 1.115009e-02 3.838508e-03 1.058603e-19\n",
      "\n",
      "Values of teststatistic and critical values of test:\n",
      "\n",
      "           test  10pct   5pct   1pct\n",
      "r <= 6 |   3.00  10.49  12.25  16.26\n",
      "r <= 5 |  11.75  22.76  25.32  30.45\n",
      "r <= 4 |  28.25  39.06  42.44  48.45\n",
      "r <= 3 |  48.19  59.14  62.99  70.05\n",
      "r <= 2 |  84.09  83.20  87.31  96.58\n",
      "r <= 1 | 136.44 110.42 114.90 124.75\n",
      "r = 0  | 207.28 141.01 146.76 158.49\n",
      "\n",
      "Eigenvectors, normalised to first column:\n",
      "(These are the cointegration relations)\n",
      "\n",
      "              EURUSD.l1    USDJPY.l1    GBPUSD.l1    USDCHF.l1     USDCAD.l1\n",
      "EURUSD.l1  1.0000000000  1.000000000  1.000000000  1.000000000  1.0000000000\n",
      "USDJPY.l1  0.0207768779 -3.308560787  2.529184122 -0.133789585  0.3862586788\n",
      "GBPUSD.l1 -0.4452429768  0.168826928 -0.944150839  0.554988453 -0.3649242158\n",
      "USDCHF.l1 -0.5168014916 -2.016251559 -6.701254951 -1.749746487 -0.9406498998\n",
      "USDCAD.l1 -0.8529661238 -4.917172821  1.787756635 -0.076789693 -0.1610919147\n",
      "AUDUSD.l1 -3.3933295094 10.227332608 -1.646689862 -0.277973496  2.7530897365\n",
      "NZDUSD.l1  3.8967157329 -4.123881048  3.118771307 -0.057159865 -3.1948383164\n",
      "trend.l1  -0.0009139176  0.008054423 -0.002876728  0.002882231 -0.0006208891\n",
      "             AUDUSD.l1    NZDUSD.l1    trend.l1\n",
      "EURUSD.l1  1.000000000  1.000000000  1.00000000\n",
      "USDJPY.l1 -0.584194188  0.599061522 -0.12121190\n",
      "GBPUSD.l1 -0.477917502  0.009137399 -1.00067511\n",
      "USDCHF.l1 -0.341291927 -0.896297870 -3.66759988\n",
      "USDCAD.l1  0.758080316 -0.562074994  3.14676486\n",
      "AUDUSD.l1 -0.332166724  2.130305915  1.55032367\n",
      "NZDUSD.l1  0.350012538 -1.159317619  0.60478400\n",
      "trend.l1   0.002779736 -0.006260931 -0.03102493\n",
      "\n",
      "Weights W:\n",
      "(This is the loading matrix)\n",
      "\n",
      "            EURUSD.l1    USDJPY.l1    GBPUSD.l1    USDCHF.l1   USDCAD.l1\n",
      "EURUSD.d -0.024815011 -0.001814062  0.004801192 -0.007149011 0.016272311\n",
      "USDJPY.d -0.017587072  0.005780029 -0.005553754  0.013455230 0.007856729\n",
      "GBPUSD.d  0.049180103 -0.008215842  0.003300531 -0.015434050 0.028860202\n",
      "USDCHF.d -0.007355715 -0.001165697  0.007172014  0.008912249 0.012091008\n",
      "USDCAD.d  0.033490474 -0.004382338 -0.004305310  0.006654707 0.015691150\n",
      "AUDUSD.d -0.004061438 -0.016636403 -0.002835407  0.010884921 0.009490065\n",
      "NZDUSD.d -0.028707090 -0.014768301 -0.003930218  0.012517206 0.015111040\n",
      "             AUDUSD.l1    NZDUSD.l1      trend.l1\n",
      "EURUSD.d -0.0011319541 -0.003675070 -1.746001e-16\n",
      "USDJPY.d  0.0127064706 -0.003730429 -2.571902e-16\n",
      "GBPUSD.d  0.0111150365 -0.002067616  3.587586e-16\n",
      "USDCHF.d  0.0006710432 -0.002411493 -3.654559e-17\n",
      "USDCAD.d -0.0025956171 -0.002483430  2.418684e-16\n",
      "AUDUSD.d  0.0030976156 -0.003101983  2.922343e-16\n",
      "NZDUSD.d  0.0027200313 -0.002436642  6.585911e-17\n",
      "\n"
     ]
    }
   ],
   "source": [
    "print(summary(ca.jo(vols.zoo, type=\"eigen\", ecdet=\"trend\", K=2, spec=\"transitory\")))\n",
    "print(summary(ca.jo(vols.zoo, type=\"trace\", ecdet=\"trend\", K=2, spec=\"transitory\")))"
   ]
  },
  {
   "cell_type": "code",
   "execution_count": null,
   "metadata": {},
   "outputs": [],
   "source": []
  }
 ],
 "metadata": {
  "kernelspec": {
   "display_name": "R",
   "language": "R",
   "name": "ir"
  },
  "language_info": {
   "codemirror_mode": "r",
   "file_extension": ".r",
   "mimetype": "text/x-r-source",
   "name": "R",
   "pygments_lexer": "r",
   "version": "4.3.1"
  }
 },
 "nbformat": 4,
 "nbformat_minor": 4
}
